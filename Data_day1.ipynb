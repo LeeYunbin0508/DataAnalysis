{
 "cells": [
  {
   "cell_type": "code",
   "execution_count": 2,
   "id": "ae83ea86",
   "metadata": {},
   "outputs": [
    {
     "name": "stdout",
     "output_type": "stream",
     "text": [
      "연도 입력2019\n",
      "사고건수 입력4223\n",
      "사망자수 입력206\n",
      "2019년도 사고건수: 4223 건, 사망자수: 206 명 -> 치명률 :  4.88\n"
     ]
    }
   ],
   "source": [
    "# 퀴즈 1 \n",
    "year = input('연도 입력')\n",
    "accident = int(input('사고건수 입력'))\n",
    "dead = int(input('사망자수 입력'))\n",
    "rate = dead / accident * 100 \n",
    "print(f\"{year}년도 사고건수: {accident} 건, 사망자수: {dead} 명 -> 치명률 : {rate : .2f}\")"
   ]
  },
  {
   "cell_type": "code",
   "execution_count": 3,
   "id": "7e5828b5",
   "metadata": {},
   "outputs": [
    {
     "name": "stdout",
     "output_type": "stream",
     "text": [
      "연도 입력2022\n",
      "사고건수 입력1823\n",
      "사망자수 입력103\n",
      "★ 2022년도 사고건수 : ※1823 건, ※사망자수 : 103 명 -> ※치명률 : 5.65 입니다★\n"
     ]
    }
   ],
   "source": [
    "# 퀴즈 2 \n",
    "year = input('연도 입력')\n",
    "accident = int(input('사고건수 입력'))\n",
    "dead = int(input('사망자수 입력'))\n",
    "rate = dead / accident * 100 \n",
    "print(f'★ {year}년도 사고건수 : ※{accident} 건, ※사망자수 : {dead} 명 -> ※치명률 :{rate: .2f} 입니다★')"
   ]
  },
  {
   "cell_type": "code",
   "execution_count": 4,
   "id": "f6d8bffc",
   "metadata": {},
   "outputs": [
    {
     "name": "stdout",
     "output_type": "stream",
     "text": [
      "연도 입력2019\n",
      "사고건수 입력4223\n",
      "사망자수 입력206\n",
      "★ 2019년도 사고건수 : ※4223 건, ※사망자수 : 206 명 -> ※치명률 : 4.88 입니다★\n",
      "연도 입력2020\n",
      "사고건수 입력4039\n",
      "사망자수 입력223\n",
      "★ 2020년도 사고건수 : ※4039 건, ※사망자수 : 223 명 -> ※치명률 : 5.52 입니다★\n",
      "연도 입력2021\n",
      "사고건수 입력4883\n",
      "사망자수 입력191\n",
      "★ 2021년도 사고건수 : ※4883 건, ※사망자수 : 191 명 -> ※치명률 : 3.91 입니다★\n"
     ]
    }
   ],
   "source": [
    "# 퀴즈 3\n",
    "year = input('연도 입력')\n",
    "accident = int(input('사고건수 입력'))\n",
    "dead = int(input('사망자수 입력'))\n",
    "rate = dead / accident * 100 \n",
    "print(f'★ {year}년도 사고건수 : ※{accident} 건, ※사망자수 : {dead} 명 -> ※치명률 :{rate: .2f} 입니다★')\n",
    "\n",
    "year = input('연도 입력')\n",
    "accident = int(input('사고건수 입력'))\n",
    "dead = int(input('사망자수 입력'))\n",
    "rate = dead / accident * 100 \n",
    "print(f'★ {year}년도 사고건수 : ※{accident} 건, ※사망자수 : {dead} 명 -> ※치명률 :{rate: .2f} 입니다★')\n",
    "\n",
    "year = input('연도 입력')\n",
    "accident = int(input('사고건수 입력'))\n",
    "dead = int(input('사망자수 입력'))\n",
    "rate = dead / accident * 100 \n",
    "print(f'★ {year}년도 사고건수 : ※{accident} 건, ※사망자수 : {dead} 명 -> ※치명률 :{rate: .2f} 입니다★')"
   ]
  },
  {
   "cell_type": "code",
   "execution_count": null,
   "id": "f3bea961",
   "metadata": {},
   "outputs": [],
   "source": []
  }
 ],
 "metadata": {
  "kernelspec": {
   "display_name": "Python 3 (ipykernel)",
   "language": "python",
   "name": "python3"
  },
  "language_info": {
   "codemirror_mode": {
    "name": "ipython",
    "version": 3
   },
   "file_extension": ".py",
   "mimetype": "text/x-python",
   "name": "python",
   "nbconvert_exporter": "python",
   "pygments_lexer": "ipython3",
   "version": "3.9.12"
  }
 },
 "nbformat": 4,
 "nbformat_minor": 5
}
